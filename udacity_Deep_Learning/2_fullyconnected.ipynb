{
 "cells": [
  {
   "cell_type": "markdown",
   "metadata": {
    "colab_type": "text",
    "id": "kR-4eNdK6lYS"
   },
   "source": [
    "Deep Learning\n",
    "=============\n",
    "\n",
    "Assignment 2\n",
    "------------\n",
    "\n",
    "Previously in `1_notmnist.ipynb`, we created a pickle with formatted datasets for training, development and testing on the [notMNIST dataset](http://yaroslavvb.blogspot.com/2011/09/notmnist-dataset.html).\n",
    "\n",
    "The goal of this assignment is to progressively train deeper and more accurate models using TensorFlow."
   ]
  },
  {
   "cell_type": "code",
   "execution_count": 1,
   "metadata": {
    "cellView": "both",
    "colab": {
     "autoexec": {
      "startup": false,
      "wait_interval": 0
     }
    },
    "colab_type": "code",
    "collapsed": true,
    "id": "JLpLa8Jt7Vu4"
   },
   "outputs": [],
   "source": [
    "# These are all the modules we'll be using later. Make sure you can import them\n",
    "# before proceeding further.\n",
    "from __future__ import print_function\n",
    "import numpy as np\n",
    "import tensorflow as tf\n",
    "from six.moves import cPickle as pickle\n",
    "from six.moves import range"
   ]
  },
  {
   "cell_type": "markdown",
   "metadata": {
    "colab_type": "text",
    "id": "1HrCK6e17WzV"
   },
   "source": [
    "First reload the data we generated in `1_notmnist.ipynb`."
   ]
  },
  {
   "cell_type": "code",
   "execution_count": 2,
   "metadata": {
    "cellView": "both",
    "colab": {
     "autoexec": {
      "startup": false,
      "wait_interval": 0
     },
     "output_extras": [
      {
       "item_id": 1
      }
     ]
    },
    "colab_type": "code",
    "collapsed": false,
    "executionInfo": {
     "elapsed": 19456,
     "status": "ok",
     "timestamp": 1449847956073,
     "user": {
      "color": "",
      "displayName": "",
      "isAnonymous": false,
      "isMe": true,
      "permissionId": "",
      "photoUrl": "",
      "sessionId": "0",
      "userId": ""
     },
     "user_tz": 480
    },
    "id": "y3-cj1bpmuxc",
    "outputId": "0ddb1607-1fc4-4ddb-de28-6c7ab7fb0c33"
   },
   "outputs": [
    {
     "name": "stdout",
     "output_type": "stream",
     "text": [
      "Training set (200000, 28, 28) (200000,)\n",
      "Validation set (10000, 28, 28) (10000,)\n",
      "Test set (10000, 28, 28) (10000,)\n"
     ]
    }
   ],
   "source": [
    "pickle_file = 'notMNIST.pickle'\n",
    "\n",
    "with open(pickle_file, 'rb') as f:\n",
    "  save = pickle.load(f)\n",
    "  train_dataset = save['train_dataset']\n",
    "  train_labels = save['train_labels']\n",
    "  valid_dataset = save['valid_dataset']\n",
    "  valid_labels = save['valid_labels']\n",
    "  test_dataset = save['test_dataset']\n",
    "  test_labels = save['test_labels']\n",
    "  del save  # hint to help gc free up memory\n",
    "  print('Training set', train_dataset.shape, train_labels.shape)\n",
    "  print('Validation set', valid_dataset.shape, valid_labels.shape)\n",
    "  print('Test set', test_dataset.shape, test_labels.shape)"
   ]
  },
  {
   "cell_type": "markdown",
   "metadata": {
    "colab_type": "text",
    "id": "L7aHrm6nGDMB"
   },
   "source": [
    "Reformat into a shape that's more adapted to the models we're going to train:\n",
    "- data as a flat matrix,\n",
    "- labels as float 1-hot encodings."
   ]
  },
  {
   "cell_type": "code",
   "execution_count": 10,
   "metadata": {
    "cellView": "both",
    "colab": {
     "autoexec": {
      "startup": false,
      "wait_interval": 0
     },
     "output_extras": [
      {
       "item_id": 1
      }
     ]
    },
    "colab_type": "code",
    "collapsed": false,
    "executionInfo": {
     "elapsed": 19723,
     "status": "ok",
     "timestamp": 1449847956364,
     "user": {
      "color": "",
      "displayName": "",
      "isAnonymous": false,
      "isMe": true,
      "permissionId": "",
      "photoUrl": "",
      "sessionId": "0",
      "userId": ""
     },
     "user_tz": 480
    },
    "id": "IRSyYiIIGIzS",
    "outputId": "2ba0fc75-1487-4ace-a562-cf81cae82793"
   },
   "outputs": [
    {
     "name": "stdout",
     "output_type": "stream",
     "text": [
      "Training set (200000, 784) (200000, 10)\n",
      "Validation set (10000, 784) (10000, 10)\n",
      "Test set (10000, 784) (10000, 10)\n"
     ]
    }
   ],
   "source": [
    "image_size = 28\n",
    "num_labels = 10\n",
    "\n",
    "def reformat(dataset, labels):\n",
    "  dataset = dataset.reshape((-1, image_size * image_size)).astype(np.float32)\n",
    "  # Map 0 to [1.0, 0.0, 0.0 ...], 1 to [0.0, 1.0, 0.0 ...]\n",
    "  labels = (np.arange(num_labels) == labels[:,None]).astype(np.float32)\n",
    "  return dataset, labels\n",
    "train_dataset, train_labels = reformat(train_dataset, train_labels)\n",
    "valid_dataset, valid_labels = reformat(valid_dataset, valid_labels)\n",
    "test_dataset, test_labels = reformat(test_dataset, test_labels)\n",
    "print('Training set', train_dataset.shape, train_labels.shape)\n",
    "print('Validation set', valid_dataset.shape, valid_labels.shape)\n",
    "print('Test set', test_dataset.shape, test_labels.shape)"
   ]
  },
  {
   "cell_type": "markdown",
   "metadata": {
    "colab_type": "text",
    "id": "nCLVqyQ5vPPH"
   },
   "source": [
    "We're first going to train a multinomial logistic regression using simple gradient descent.\n",
    "\n",
    "TensorFlow works like this:\n",
    "* First you describe the computation that you want to see performed: what the inputs, the variables, and the operations look like. These get created as nodes over a computation graph. This description is all contained within the block below:\n",
    "\n",
    "      with graph.as_default():\n",
    "          ...\n",
    "\n",
    "* Then you can run the operations on this graph as many times as you want by calling `session.run()`, providing it outputs to fetch from the graph that get returned. This runtime operation is all contained in the block below:\n",
    "\n",
    "      with tf.Session(graph=graph) as session:\n",
    "          ...\n",
    "\n",
    "Let's load all the data into TensorFlow and build the computation graph corresponding to our training:"
   ]
  },
  {
   "cell_type": "code",
   "execution_count": 11,
   "metadata": {
    "cellView": "both",
    "colab": {
     "autoexec": {
      "startup": false,
      "wait_interval": 0
     }
    },
    "colab_type": "code",
    "collapsed": true,
    "id": "Nfv39qvtvOl_"
   },
   "outputs": [],
   "source": [
    "# With gradient descent training, even this much data is prohibitive.\n",
    "# Subset the training data for faster turnaround.\n",
    "train_subset = 10000\n",
    "\n",
    "graph = tf.Graph()\n",
    "with graph.as_default():\n",
    "\n",
    "  # Input data.\n",
    "  # Load the training, validation and test data into constants that are\n",
    "  # attached to the graph.\n",
    "  tf_train_dataset = tf.constant(train_dataset[:train_subset, :])\n",
    "  tf_train_labels = tf.constant(train_labels[:train_subset])\n",
    "  tf_valid_dataset = tf.constant(valid_dataset)\n",
    "  tf_test_dataset = tf.constant(test_dataset)\n",
    "  \n",
    "  # Variables.\n",
    "  # These are the parameters that we are going to be training. The weight\n",
    "  # matrix will be initialized using random values following a (truncated)\n",
    "  # normal distribution. The biases get initialized to zero.\n",
    "  weights = tf.Variable(\n",
    "    tf.truncated_normal([image_size * image_size, num_labels]))\n",
    "  biases = tf.Variable(tf.zeros([num_labels]))\n",
    "  \n",
    "  # Training computation.\n",
    "  # We multiply the inputs with the weight matrix, and add biases. We compute\n",
    "  # the softmax and cross-entropy (it's one operation in TensorFlow, because\n",
    "  # it's very common, and it can be optimized). We take the average of this\n",
    "  # cross-entropy across all training examples: that's our loss.\n",
    "  logits = tf.matmul(tf_train_dataset, weights) + biases\n",
    "  loss = tf.reduce_mean(\n",
    "    tf.nn.softmax_cross_entropy_with_logits(logits, tf_train_labels))\n",
    "  \n",
    "  # Optimizer.\n",
    "  # We are going to find the minimum of this loss using gradient descent.\n",
    "  optimizer = tf.train.GradientDescentOptimizer(0.5).minimize(loss)\n",
    "  \n",
    "  # Predictions for the training, validation, and test data.\n",
    "  # These are not part of training, but merely here so that we can report\n",
    "  # accuracy figures as we train.\n",
    "  train_prediction = tf.nn.softmax(logits)\n",
    "  valid_prediction = tf.nn.softmax(\n",
    "    tf.matmul(tf_valid_dataset, weights) + biases)\n",
    "  test_prediction = tf.nn.softmax(tf.matmul(tf_test_dataset, weights) + biases)"
   ]
  },
  {
   "cell_type": "markdown",
   "metadata": {
    "colab_type": "text",
    "id": "KQcL4uqISHjP"
   },
   "source": [
    "Let's run this computation and iterate:"
   ]
  },
  {
   "cell_type": "code",
   "execution_count": 16,
   "metadata": {
    "cellView": "both",
    "colab": {
     "autoexec": {
      "startup": false,
      "wait_interval": 0
     },
     "output_extras": [
      {
       "item_id": 9
      }
     ]
    },
    "colab_type": "code",
    "collapsed": false,
    "executionInfo": {
     "elapsed": 57454,
     "status": "ok",
     "timestamp": 1449847994134,
     "user": {
      "color": "",
      "displayName": "",
      "isAnonymous": false,
      "isMe": true,
      "permissionId": "",
      "photoUrl": "",
      "sessionId": "0",
      "userId": ""
     },
     "user_tz": 480
    },
    "id": "z2cjdenH869W",
    "outputId": "4c037ba1-b526-4d8e-e632-91e2a0333267"
   },
   "outputs": [
    {
     "name": "stdout",
     "output_type": "stream",
     "text": [
      "Initialized\n",
      "Loss at step 0: 19.114422\n",
      "Training accuracy: 11.9%\n",
      "Validation accuracy: 14.2%\n",
      "Loss at step 100: 2.347657\n",
      "Training accuracy: 71.6%\n",
      "Validation accuracy: 70.7%\n",
      "Loss at step 200: 1.894620\n",
      "Training accuracy: 74.2%\n",
      "Validation accuracy: 72.9%\n",
      "Loss at step 300: 1.648460\n",
      "Training accuracy: 75.4%\n",
      "Validation accuracy: 73.9%\n",
      "Loss at step 400: 1.482837\n",
      "Training accuracy: 76.4%\n",
      "Validation accuracy: 74.5%\n",
      "Loss at step 500: 1.359970\n",
      "Training accuracy: 77.1%\n",
      "Validation accuracy: 74.9%\n",
      "Loss at step 600: 1.263032\n",
      "Training accuracy: 77.6%\n",
      "Validation accuracy: 75.3%\n",
      "Loss at step 700: 1.183607\n",
      "Training accuracy: 78.0%\n",
      "Validation accuracy: 75.4%\n",
      "Loss at step 800: 1.116956\n",
      "Training accuracy: 78.5%\n",
      "Validation accuracy: 75.5%\n",
      "Loss at step 900: 1.060118\n",
      "Training accuracy: 79.1%\n",
      "Validation accuracy: 75.7%\n",
      "Loss at step 1000: 1.011041\n",
      "Training accuracy: 79.2%\n",
      "Validation accuracy: 75.8%\n",
      "Loss at step 1100: 0.968188\n",
      "Training accuracy: 79.6%\n",
      "Validation accuracy: 75.9%\n",
      "Loss at step 1200: 0.930382\n",
      "Training accuracy: 80.0%\n",
      "Validation accuracy: 76.1%\n",
      "Loss at step 1300: 0.896728\n",
      "Training accuracy: 80.3%\n",
      "Validation accuracy: 76.1%\n",
      "Loss at step 1400: 0.866541\n",
      "Training accuracy: 80.6%\n",
      "Validation accuracy: 76.3%\n",
      "Loss at step 1500: 0.839293\n",
      "Training accuracy: 80.9%\n",
      "Validation accuracy: 76.4%\n",
      "Loss at step 1600: 0.814566\n",
      "Training accuracy: 81.2%\n",
      "Validation accuracy: 76.5%\n",
      "Loss at step 1700: 0.792018\n",
      "Training accuracy: 81.4%\n",
      "Validation accuracy: 76.5%\n",
      "Loss at step 1800: 0.771369\n",
      "Training accuracy: 81.8%\n",
      "Validation accuracy: 76.3%\n",
      "Loss at step 1900: 0.752379\n",
      "Training accuracy: 82.1%\n",
      "Validation accuracy: 76.3%\n",
      "Loss at step 2000: 0.734847\n",
      "Training accuracy: 82.4%\n",
      "Validation accuracy: 76.5%\n",
      "Loss at step 2100: 0.718601\n",
      "Training accuracy: 82.7%\n",
      "Validation accuracy: 76.6%\n",
      "Loss at step 2200: 0.703495\n",
      "Training accuracy: 82.9%\n",
      "Validation accuracy: 76.6%\n",
      "Loss at step 2300: 0.689406\n",
      "Training accuracy: 83.1%\n",
      "Validation accuracy: 76.6%\n",
      "Loss at step 2400: 0.676228\n",
      "Training accuracy: 83.3%\n",
      "Validation accuracy: 76.6%\n",
      "Loss at step 2500: 0.663872\n",
      "Training accuracy: 83.4%\n",
      "Validation accuracy: 76.6%\n",
      "Loss at step 2600: 0.652259\n",
      "Training accuracy: 83.6%\n",
      "Validation accuracy: 76.7%\n",
      "Loss at step 2700: 0.641323\n",
      "Training accuracy: 83.9%\n",
      "Validation accuracy: 76.8%\n",
      "Loss at step 2800: 0.631002\n",
      "Training accuracy: 84.0%\n",
      "Validation accuracy: 76.8%\n",
      "Loss at step 2900: 0.621245\n",
      "Training accuracy: 84.2%\n",
      "Validation accuracy: 76.8%\n",
      "Loss at step 3000: 0.612006\n",
      "Training accuracy: 84.4%\n",
      "Validation accuracy: 76.9%\n",
      "Loss at step 3100: 0.603243\n",
      "Training accuracy: 84.5%\n",
      "Validation accuracy: 76.9%\n",
      "Loss at step 3200: 0.594919\n",
      "Training accuracy: 84.7%\n",
      "Validation accuracy: 77.0%\n",
      "Loss at step 3300: 0.587001\n",
      "Training accuracy: 84.8%\n",
      "Validation accuracy: 77.0%\n",
      "Loss at step 3400: 0.579458\n",
      "Training accuracy: 85.0%\n",
      "Validation accuracy: 77.1%\n",
      "Loss at step 3500: 0.572265\n",
      "Training accuracy: 85.2%\n",
      "Validation accuracy: 77.1%\n",
      "Loss at step 3600: 0.565396\n",
      "Training accuracy: 85.4%\n",
      "Validation accuracy: 77.0%\n",
      "Loss at step 3700: 0.558828\n",
      "Training accuracy: 85.4%\n",
      "Validation accuracy: 77.0%\n",
      "Loss at step 3800: 0.552543\n",
      "Training accuracy: 85.7%\n",
      "Validation accuracy: 77.0%\n",
      "Loss at step 3900: 0.546520\n",
      "Training accuracy: 85.8%\n",
      "Validation accuracy: 77.0%\n",
      "Loss at step 4000: 0.540745\n",
      "Training accuracy: 85.9%\n",
      "Validation accuracy: 76.9%\n",
      "Loss at step 4100: 0.535200\n",
      "Training accuracy: 86.0%\n",
      "Validation accuracy: 77.0%\n",
      "Loss at step 4200: 0.529872\n",
      "Training accuracy: 86.2%\n",
      "Validation accuracy: 77.0%\n",
      "Loss at step 4300: 0.524748\n",
      "Training accuracy: 86.2%\n",
      "Validation accuracy: 77.0%\n",
      "Loss at step 4400: 0.519816\n",
      "Training accuracy: 86.4%\n",
      "Validation accuracy: 77.0%\n",
      "Loss at step 4500: 0.515066\n",
      "Training accuracy: 86.5%\n",
      "Validation accuracy: 77.0%\n",
      "Loss at step 4600: 0.510487\n",
      "Training accuracy: 86.6%\n",
      "Validation accuracy: 77.1%\n",
      "Loss at step 4700: 0.506070\n",
      "Training accuracy: 86.8%\n",
      "Validation accuracy: 77.1%\n",
      "Loss at step 4800: 0.501806\n",
      "Training accuracy: 86.9%\n",
      "Validation accuracy: 77.0%\n",
      "Loss at step 4900: 0.497687\n",
      "Training accuracy: 87.0%\n",
      "Validation accuracy: 77.1%\n",
      "Loss at step 5000: 0.493706\n",
      "Training accuracy: 87.1%\n",
      "Validation accuracy: 77.1%\n",
      "Loss at step 5100: 0.489856\n",
      "Training accuracy: 87.2%\n",
      "Validation accuracy: 77.1%\n",
      "Loss at step 5200: 0.486130\n",
      "Training accuracy: 87.2%\n",
      "Validation accuracy: 77.1%\n",
      "Loss at step 5300: 0.482523\n",
      "Training accuracy: 87.4%\n",
      "Validation accuracy: 77.1%\n",
      "Loss at step 5400: 0.479027\n",
      "Training accuracy: 87.4%\n",
      "Validation accuracy: 77.0%\n",
      "Loss at step 5500: 0.475639\n",
      "Training accuracy: 87.5%\n",
      "Validation accuracy: 77.1%\n",
      "Loss at step 5600: 0.472352\n",
      "Training accuracy: 87.6%\n",
      "Validation accuracy: 77.2%\n",
      "Loss at step 5700: 0.469162\n",
      "Training accuracy: 87.7%\n",
      "Validation accuracy: 77.2%\n",
      "Loss at step 5800: 0.466065\n",
      "Training accuracy: 87.8%\n",
      "Validation accuracy: 77.2%\n",
      "Loss at step 5900: 0.463056\n",
      "Training accuracy: 87.9%\n",
      "Validation accuracy: 77.2%\n",
      "Loss at step 6000: 0.460131\n",
      "Training accuracy: 88.0%\n",
      "Validation accuracy: 77.2%\n",
      "Loss at step 6100: 0.457287\n",
      "Training accuracy: 88.1%\n",
      "Validation accuracy: 77.2%\n",
      "Loss at step 6200: 0.454520\n",
      "Training accuracy: 88.1%\n",
      "Validation accuracy: 77.2%\n",
      "Loss at step 6300: 0.451826\n",
      "Training accuracy: 88.2%\n",
      "Validation accuracy: 77.2%\n",
      "Loss at step 6400: 0.449202\n",
      "Training accuracy: 88.3%\n",
      "Validation accuracy: 77.1%\n",
      "Loss at step 6500: 0.446646\n",
      "Training accuracy: 88.3%\n",
      "Validation accuracy: 77.1%\n",
      "Loss at step 6600: 0.444155\n",
      "Training accuracy: 88.4%\n",
      "Validation accuracy: 77.2%\n",
      "Loss at step 6700: 0.441725\n",
      "Training accuracy: 88.5%\n",
      "Validation accuracy: 77.1%\n",
      "Loss at step 6800: 0.439355\n",
      "Training accuracy: 88.5%\n",
      "Validation accuracy: 77.1%\n",
      "Loss at step 6900: 0.437042\n",
      "Training accuracy: 88.6%\n",
      "Validation accuracy: 77.1%\n",
      "Loss at step 7000: 0.434783\n",
      "Training accuracy: 88.7%\n",
      "Validation accuracy: 77.1%\n",
      "Loss at step 7100: 0.432578\n",
      "Training accuracy: 88.7%\n",
      "Validation accuracy: 77.1%\n",
      "Loss at step 7200: 0.430422\n",
      "Training accuracy: 88.7%\n",
      "Validation accuracy: 77.1%\n",
      "Loss at step 7300: 0.428316\n",
      "Training accuracy: 88.8%\n",
      "Validation accuracy: 77.1%\n",
      "Loss at step 7400: 0.426256\n",
      "Training accuracy: 88.9%\n",
      "Validation accuracy: 77.1%\n",
      "Loss at step 7500: 0.424242\n",
      "Training accuracy: 88.9%\n",
      "Validation accuracy: 77.0%\n",
      "Loss at step 7600: 0.422271\n",
      "Training accuracy: 89.0%\n",
      "Validation accuracy: 77.0%\n",
      "Loss at step 7700: 0.420341\n",
      "Training accuracy: 89.0%\n",
      "Validation accuracy: 77.0%\n",
      "Loss at step 7800: 0.418453\n",
      "Training accuracy: 89.0%\n",
      "Validation accuracy: 77.1%\n",
      "Loss at step 7900: 0.416603\n",
      "Training accuracy: 89.1%\n",
      "Validation accuracy: 77.0%\n",
      "Loss at step 8000: 0.414790\n",
      "Training accuracy: 89.2%\n",
      "Validation accuracy: 77.0%\n",
      "Test accuracy: 85.0%\n"
     ]
    }
   ],
   "source": [
    "num_steps = 8001\n",
    "\n",
    "def accuracy(predictions, labels):\n",
    "  return (100.0 * np.sum(np.argmax(predictions, 1) == np.argmax(labels, 1))\n",
    "          / predictions.shape[0])\n",
    "\n",
    "with tf.Session(graph=graph) as session:\n",
    "  # This is a one-time operation which ensures the parameters get initialized as\n",
    "  # we described in the graph: random weights for the matrix, zeros for the\n",
    "  # biases. \n",
    "  tf.initialize_all_variables().run()\n",
    "  print('Initialized')\n",
    "  for step in range(num_steps):\n",
    "    # Run the computations. We tell .run() that we want to run the optimizer,\n",
    "    # and get the loss value and the training predictions returned as numpy\n",
    "    # arrays.\n",
    "    _, l, predictions = session.run([optimizer, loss, train_prediction])\n",
    "    if (step % 100 == 0):\n",
    "      print('Loss at step %d: %f' % (step, l))\n",
    "      print('Training accuracy: %.1f%%' % accuracy(\n",
    "        predictions, train_labels[:train_subset, :]))\n",
    "      # Calling .eval() on valid_prediction is basically like calling run(), but\n",
    "      # just to get that one numpy array. Note that it recomputes all its graph\n",
    "      # dependencies.\n",
    "      print('Validation accuracy: %.1f%%' % accuracy(\n",
    "        valid_prediction.eval(), valid_labels))\n",
    "  print('Test accuracy: %.1f%%' % accuracy(test_prediction.eval(), test_labels))"
   ]
  },
  {
   "cell_type": "markdown",
   "metadata": {
    "colab_type": "text",
    "id": "x68f-hxRGm3H"
   },
   "source": [
    "Let's now switch to stochastic gradient descent training instead, which is much faster.\n",
    "\n",
    "The graph will be similar, except that instead of holding all the training data into a constant node, we create a `Placeholder` node which will be fed actual data at every call of `session.run()`."
   ]
  },
  {
   "cell_type": "code",
   "execution_count": 18,
   "metadata": {
    "cellView": "both",
    "colab": {
     "autoexec": {
      "startup": false,
      "wait_interval": 0
     }
    },
    "colab_type": "code",
    "collapsed": true,
    "id": "qhPMzWYRGrzM"
   },
   "outputs": [],
   "source": [
    "batch_size = 128\n",
    "\n",
    "graph = tf.Graph()\n",
    "with graph.as_default():\n",
    "\n",
    "  # Input data. For the training data, we use a placeholder that will be fed\n",
    "  # at run time with a training minibatch.\n",
    "  tf_train_dataset = tf.placeholder(tf.float32,\n",
    "                                    shape=(batch_size, image_size * image_size))\n",
    "  tf_train_labels = tf.placeholder(tf.float32, shape=(batch_size, num_labels))\n",
    "  tf_valid_dataset = tf.constant(valid_dataset)\n",
    "  tf_test_dataset = tf.constant(test_dataset)\n",
    "  \n",
    "  # Variables.\n",
    "  weights = tf.Variable(\n",
    "    tf.truncated_normal([image_size * image_size, num_labels]))\n",
    "  biases = tf.Variable(tf.zeros([num_labels]))\n",
    "  \n",
    "  # Training computation.\n",
    "  logits = tf.matmul(tf_train_dataset, weights) + biases\n",
    "  loss = tf.reduce_mean(\n",
    "    tf.nn.softmax_cross_entropy_with_logits(logits, tf_train_labels))\n",
    "  \n",
    "  # Optimizer.\n",
    "  optimizer = tf.train.GradientDescentOptimizer(0.5).minimize(loss)\n",
    "  \n",
    "  # Predictions for the training, validation, and test data.\n",
    "  train_prediction = tf.nn.softmax(logits)\n",
    "  valid_prediction = tf.nn.softmax(\n",
    "    tf.matmul(tf_valid_dataset, weights) + biases)\n",
    "  test_prediction = tf.nn.softmax(tf.matmul(tf_test_dataset, weights) + biases)"
   ]
  },
  {
   "cell_type": "markdown",
   "metadata": {
    "colab_type": "text",
    "id": "XmVZESmtG4JH"
   },
   "source": [
    "Let's run it:"
   ]
  },
  {
   "cell_type": "code",
   "execution_count": 19,
   "metadata": {
    "cellView": "both",
    "colab": {
     "autoexec": {
      "startup": false,
      "wait_interval": 0
     },
     "output_extras": [
      {
       "item_id": 6
      }
     ]
    },
    "colab_type": "code",
    "collapsed": false,
    "executionInfo": {
     "elapsed": 66292,
     "status": "ok",
     "timestamp": 1449848003013,
     "user": {
      "color": "",
      "displayName": "",
      "isAnonymous": false,
      "isMe": true,
      "permissionId": "",
      "photoUrl": "",
      "sessionId": "0",
      "userId": ""
     },
     "user_tz": 480
    },
    "id": "FoF91pknG_YW",
    "outputId": "d255c80e-954d-4183-ca1c-c7333ce91d0a"
   },
   "outputs": [
    {
     "name": "stdout",
     "output_type": "stream",
     "text": [
      "Initialized\n",
      "Minibatch loss at step 0: 18.330114\n",
      "Minibatch accuracy: 7.8%\n",
      "Validation accuracy: 9.5%\n",
      "Minibatch loss at step 500: 2.227109\n",
      "Minibatch accuracy: 73.4%\n",
      "Validation accuracy: 75.9%\n",
      "Minibatch loss at step 1000: 1.442988\n",
      "Minibatch accuracy: 75.8%\n",
      "Validation accuracy: 77.0%\n",
      "Minibatch loss at step 1500: 1.137185\n",
      "Minibatch accuracy: 78.9%\n",
      "Validation accuracy: 77.8%\n",
      "Minibatch loss at step 2000: 1.065490\n",
      "Minibatch accuracy: 82.8%\n",
      "Validation accuracy: 78.4%\n",
      "Minibatch loss at step 2500: 0.810626\n",
      "Minibatch accuracy: 81.2%\n",
      "Validation accuracy: 78.7%\n",
      "Minibatch loss at step 3000: 0.672210\n",
      "Minibatch accuracy: 84.4%\n",
      "Validation accuracy: 79.0%\n",
      "Test accuracy: 86.2%\n"
     ]
    }
   ],
   "source": [
    "num_steps = 3001\n",
    "\n",
    "with tf.Session(graph=graph) as session:\n",
    "  tf.initialize_all_variables().run()\n",
    "  print(\"Initialized\")\n",
    "  for step in range(num_steps):\n",
    "    # Pick an offset within the training data, which has been randomized.\n",
    "    # Note: we could use better randomization across epochs.\n",
    "    offset = (step * batch_size) % (train_labels.shape[0] - batch_size)\n",
    "    # Generate a minibatch.\n",
    "    batch_data = train_dataset[offset:(offset + batch_size), :]\n",
    "    batch_labels = train_labels[offset:(offset + batch_size), :]\n",
    "    # Prepare a dictionary telling the session where to feed the minibatch.\n",
    "    # The key of the dictionary is the placeholder node of the graph to be fed,\n",
    "    # and the value is the numpy array to feed to it.\n",
    "    feed_dict = {tf_train_dataset : batch_data, tf_train_labels : batch_labels}\n",
    "    _, l, predictions = session.run(\n",
    "      [optimizer, loss, train_prediction], feed_dict=feed_dict)\n",
    "    if (step % 500 == 0):\n",
    "      print(\"Minibatch loss at step %d: %f\" % (step, l))\n",
    "      print(\"Minibatch accuracy: %.1f%%\" % accuracy(predictions, batch_labels))\n",
    "      print(\"Validation accuracy: %.1f%%\" % accuracy(\n",
    "        valid_prediction.eval(), valid_labels))\n",
    "  print(\"Test accuracy: %.1f%%\" % accuracy(test_prediction.eval(), test_labels))"
   ]
  },
  {
   "cell_type": "markdown",
   "metadata": {
    "colab_type": "text",
    "id": "7omWxtvLLxik"
   },
   "source": [
    "---\n",
    "Problem\n",
    "-------\n",
    "\n",
    "Turn the logistic regression example with SGD into a 1-hidden layer neural network with rectified linear units [nn.relu()](https://www.tensorflow.org/versions/r0.7/api_docs/python/nn.html#relu) and 1024 hidden nodes. This model should improve your validation / test accuracy.\n",
    "\n",
    "---"
   ]
  },
  {
   "cell_type": "code",
   "execution_count": 44,
   "metadata": {
    "collapsed": true
   },
   "outputs": [],
   "source": [
    "del graph"
   ]
  },
  {
   "cell_type": "code",
   "execution_count": 65,
   "metadata": {
    "collapsed": false
   },
   "outputs": [],
   "source": [
    "batch_size = 128\n",
    "num_hidden_nodes = 1024\n",
    "\n",
    "graph = tf.Graph()\n",
    "with graph.as_default():\n",
    "\n",
    "    # Input data. For the training data, we use a placeholder that will be fed\n",
    "    # at run time with a training minibatch.\n",
    "    tf_train_dataset = tf.placeholder(tf.float32,\n",
    "                                    shape=(batch_size, image_size * image_size))\n",
    "    tf_train_labels = tf.placeholder(tf.float32, shape=(batch_size, num_labels))\n",
    "    tf_valid_dataset = tf.constant(valid_dataset)\n",
    "    tf_test_dataset = tf.constant(test_dataset)\n",
    "\n",
    "    # Variables.\n",
    "    weights1 = tf.Variable(tf.truncated_normal([image_size*image_size, num_hidden_nodes]))\n",
    "    bias1 = tf.Variable(tf.zeros([num_hidden_nodes]))\n",
    "    weights2 = tf.Variable(tf.truncated_normal([num_hidden_nodes, num_labels]))\n",
    "    bias2 = tf.Variable(tf.zeros([num_labels]))\n",
    "    \n",
    "    #Training\n",
    "    lay1_train = tf.nn.relu(tf.matmul(tf_train_dataset, weights1) + bias1)\n",
    "    logits = tf.matmul(lay1_train, weights2) + bias2\n",
    "    loss = tf.reduce_mean(tf.nn.softmax_cross_entropy_with_logits(logits, tf_train_labels))\n",
    "  \n",
    "    # Optimizer.\n",
    "    optimizer = tf.train.GradientDescentOptimizer(0.5).minimize(loss)\n",
    "\n",
    "    # Predictions for the training, validation, and test data.\n",
    "    train_prediction = tf.nn.softmax(logits)\n",
    "    lay1_val = tf.nn.relu(tf.matmul(tf_valid_dataset, weights1) + bias1)\n",
    "    valid_prediction = tf.nn.softmax(tf.matmul(lay1_val, weights2) + bias2)\n",
    "    lay1_test = tf.nn.relu(tf.matmul(tf_test_dataset, weights1) + bias1)\n",
    "    test_prediction = tf.nn.softmax(tf.matmul(lay1_test, weights2) + bias2)"
   ]
  },
  {
   "cell_type": "code",
   "execution_count": 67,
   "metadata": {
    "collapsed": false
   },
   "outputs": [
    {
     "name": "stdout",
     "output_type": "stream",
     "text": [
      "Initialized\n",
      "Minibatch loss at step 0: 318.873932\n",
      "Minibatch accuracy: 14.1%\n",
      "Validation accuracy: 31.3%\n",
      "Minibatch loss at step 500: 20.173328\n",
      "Minibatch accuracy: 77.3%\n",
      "Validation accuracy: 79.0%\n",
      "Minibatch loss at step 1000: 10.249607\n",
      "Minibatch accuracy: 82.8%\n",
      "Validation accuracy: 81.5%\n",
      "Minibatch loss at step 1500: 6.544503\n",
      "Minibatch accuracy: 78.9%\n",
      "Validation accuracy: 81.8%\n",
      "Minibatch loss at step 2000: 2.515872\n",
      "Minibatch accuracy: 83.6%\n",
      "Validation accuracy: 82.5%\n",
      "Minibatch loss at step 2500: 3.117705\n",
      "Minibatch accuracy: 85.2%\n",
      "Validation accuracy: 81.4%\n",
      "Minibatch loss at step 3000: 2.596312\n",
      "Minibatch accuracy: 85.2%\n",
      "Validation accuracy: 81.8%\n",
      "Minibatch loss at step 3500: 3.577320\n",
      "Minibatch accuracy: 79.7%\n",
      "Validation accuracy: 82.0%\n",
      "Minibatch loss at step 4000: 1.563601\n",
      "Minibatch accuracy: 83.6%\n",
      "Validation accuracy: 82.5%\n",
      "Minibatch loss at step 4500: 2.459990\n",
      "Minibatch accuracy: 86.7%\n",
      "Validation accuracy: 81.7%\n",
      "Test accuracy: 89.9%\n"
     ]
    }
   ],
   "source": [
    "num_steps = 5000\n",
    "\n",
    "with tf.Session(graph=graph) as session:\n",
    "  tf.initialize_all_variables().run()\n",
    "  print(\"Initialized\")\n",
    "  for step in range(num_steps):\n",
    "    # Pick an offset within the training data, which has been randomized.\n",
    "    # Note: we could use better randomization across epochs.\n",
    "    offset = (step * batch_size) % (train_labels.shape[0] - batch_size)\n",
    "    # Generate a minibatch.\n",
    "    batch_data = train_dataset[offset:(offset + batch_size), :]\n",
    "    batch_labels = train_labels[offset:(offset + batch_size), :]\n",
    "    # Prepare a dictionary telling the session where to feed the minibatch.\n",
    "    # The key of the dictionary is the placeholder node of the graph to be fed,\n",
    "    # and the value is the numpy array to feed to it.\n",
    "    feed_dict = {tf_train_dataset : batch_data, tf_train_labels : batch_labels}\n",
    "    _, l, predictions = session.run(\n",
    "      [optimizer, loss, train_prediction], feed_dict=feed_dict)\n",
    "    if (step % 500 == 0):\n",
    "      print(\"Minibatch loss at step %d: %f\" % (step, l))\n",
    "      print(\"Minibatch accuracy: %.1f%%\" % accuracy(predictions, batch_labels))\n",
    "      print(\"Validation accuracy: %.1f%%\" % accuracy(\n",
    "        valid_prediction.eval(), valid_labels))\n",
    "  print(\"Test accuracy: %.1f%%\" % accuracy(test_prediction.eval(), test_labels))"
   ]
  }
 ],
 "metadata": {
  "colab": {
   "default_view": {},
   "name": "2_fullyconnected.ipynb",
   "provenance": [],
   "version": "0.3.2",
   "views": {}
  },
  "kernelspec": {
   "display_name": "Python 2",
   "language": "python",
   "name": "python2"
  },
  "language_info": {
   "codemirror_mode": {
    "name": "ipython",
    "version": 2
   },
   "file_extension": ".py",
   "mimetype": "text/x-python",
   "name": "python",
   "nbconvert_exporter": "python",
   "pygments_lexer": "ipython2",
   "version": "2.7.12"
  }
 },
 "nbformat": 4,
 "nbformat_minor": 0
}
